{
 "cells": [
  {
   "cell_type": "markdown",
   "metadata": {},
   "source": [
    "<p align=\"center\" width=\"100%\">\n",
    "<img src=\".\\pictures\\assets\\logo\\logo_visuel.png\" alt=\"Visuel\">\n",
    "</p>"
   ]
  },
  {
   "cell_type": "markdown",
   "metadata": {},
   "source": [
    "# Visuel"
   ]
  },
  {
   "cell_type": "code",
   "execution_count": 1,
   "metadata": {},
   "outputs": [],
   "source": [
    "# I strongly recommend importing only the functions and classes you need when you use it on the Numworks\n",
    "from visuel import *"
   ]
  },
  {
   "cell_type": "markdown",
   "metadata": {},
   "source": [
    "## Lamda functions"
   ]
  },
  {
   "cell_type": "code",
   "execution_count": 2,
   "metadata": {},
   "outputs": [],
   "source": [
    "A, B, C, D = Point(50, 10), Point(300, 200), Point(10, 200), Point(300, 10)\n",
    "U, V = Vector(A, B), Vector(C, D)"
   ]
  },
  {
   "cell_type": "code",
   "execution_count": 3,
   "metadata": {},
   "outputs": [
    {
     "data": {
      "text/plain": [
       "0.76"
      ]
     },
     "execution_count": 3,
     "metadata": {},
     "output_type": "execute_result"
    }
   ],
   "source": [
    "# a: Calculate the slope of a linear function from two points\n",
    "a(A, B)"
   ]
  },
  {
   "cell_type": "code",
   "execution_count": 4,
   "metadata": {},
   "outputs": [
    {
     "data": {
      "text/plain": [
       "-28.0"
      ]
     },
     "execution_count": 4,
     "metadata": {},
     "output_type": "execute_result"
    }
   ],
   "source": [
    "# b: Calculate the y-intercept of a linear function from two points\n",
    "_a = a(A, B)\n",
    "b(_a, A)"
   ]
  },
  {
   "cell_type": "code",
   "execution_count": 5,
   "metadata": {},
   "outputs": [
    {
     "data": {
      "text/plain": [
       "Point(175.0, 105.0)"
      ]
     },
     "execution_count": 5,
     "metadata": {},
     "output_type": "execute_result"
    }
   ],
   "source": [
    "# milieu: calculates the x and y coordinates of the midpoint, from two points\n",
    "milieu(A, B, 2)"
   ]
  },
  {
   "cell_type": "code",
   "execution_count": 6,
   "metadata": {},
   "outputs": [
    {
     "data": {
      "text/plain": [
       "314.00636936215164"
      ]
     },
     "execution_count": 6,
     "metadata": {},
     "output_type": "execute_result"
    }
   ],
   "source": [
    "# distance: calculates the distance between two points\n",
    "distance(A, B)"
   ]
  },
  {
   "cell_type": "code",
   "execution_count": 7,
   "metadata": {},
   "outputs": [
    {
     "data": {
      "text/plain": [
       "4.6"
      ]
     },
     "execution_count": 7,
     "metadata": {},
     "output_type": "execute_result"
    }
   ],
   "source": [
    "# average: calculates the average of a list\n",
    "average([1, 0.6, 7, 9, 5.4])"
   ]
  },
  {
   "cell_type": "markdown",
   "metadata": {},
   "source": [
    "## Classes"
   ]
  },
  {
   "cell_type": "markdown",
   "metadata": {},
   "source": [
    "### Point"
   ]
  },
  {
   "cell_type": "code",
   "execution_count": 8,
   "metadata": {},
   "outputs": [],
   "source": [
    "A, B, C = Point(-3, 2, \"A\"), Point(2, -3, \"B\"), Point(-3, 2, \"C\")"
   ]
  },
  {
   "cell_type": "code",
   "execution_count": 9,
   "metadata": {},
   "outputs": [
    {
     "name": "stdout",
     "output_type": "stream",
     "text": [
      "A\n"
     ]
    },
    {
     "data": {
      "text/plain": [
       "Point(-3, 2)"
      ]
     },
     "execution_count": 9,
     "metadata": {},
     "output_type": "execute_result"
    }
   ],
   "source": [
    "print(A)\n",
    "A"
   ]
  },
  {
   "cell_type": "code",
   "execution_count": 10,
   "metadata": {},
   "outputs": [
    {
     "data": {
      "text/plain": [
       "(-3, 2)"
      ]
     },
     "execution_count": 10,
     "metadata": {},
     "output_type": "execute_result"
    }
   ],
   "source": [
    "x, y = A\n",
    "(x, y)"
   ]
  },
  {
   "cell_type": "code",
   "execution_count": 11,
   "metadata": {},
   "outputs": [
    {
     "data": {
      "text/plain": [
       "False"
      ]
     },
     "execution_count": 11,
     "metadata": {},
     "output_type": "execute_result"
    }
   ],
   "source": [
    "A == B"
   ]
  },
  {
   "cell_type": "code",
   "execution_count": 12,
   "metadata": {},
   "outputs": [
    {
     "data": {
      "text/plain": [
       "True"
      ]
     },
     "execution_count": 12,
     "metadata": {},
     "output_type": "execute_result"
    }
   ],
   "source": [
    "A == C"
   ]
  },
  {
   "cell_type": "code",
   "execution_count": 13,
   "metadata": {},
   "outputs": [
    {
     "data": {
      "text/plain": [
       "(Point(-3, 2), Point(-3, 2))"
      ]
     },
     "execution_count": 13,
     "metadata": {},
     "output_type": "execute_result"
    }
   ],
   "source": [
    "D = A.copy()\n",
    "(A, D)"
   ]
  },
  {
   "cell_type": "code",
   "execution_count": 14,
   "metadata": {},
   "outputs": [
    {
     "name": "stdout",
     "output_type": "stream",
     "text": [
      "Point(0.678, 0.981)\n",
      "Point(1, 1)\n"
     ]
    }
   ],
   "source": [
    "E = Point(0.678, 0.981)\n",
    "print(repr(E))\n",
    "E.round()\n",
    "print(repr(E))"
   ]
  },
  {
   "cell_type": "markdown",
   "metadata": {},
   "source": [
    "### Vector"
   ]
  },
  {
   "cell_type": "markdown",
   "metadata": {},
   "source": [
    "#### *String* and *Representation*"
   ]
  },
  {
   "cell_type": "code",
   "execution_count": 15,
   "metadata": {},
   "outputs": [],
   "source": [
    "A, B, C, D = Point(5, 5, \"A\"), Point(10, 10, \"B\"), Point(15, 5, \"C\"), Point(20, 15, \"D\")\n",
    "V, Z = Vector(B, D, \"V\"), Vector(A, B, \"Z\")"
   ]
  },
  {
   "cell_type": "code",
   "execution_count": 16,
   "metadata": {},
   "outputs": [
    {
     "name": "stdout",
     "output_type": "stream",
     "text": [
      "\n"
     ]
    },
    {
     "data": {
      "text/plain": [
       "Vector(5, 5)"
      ]
     },
     "execution_count": 16,
     "metadata": {},
     "output_type": "execute_result"
    }
   ],
   "source": [
    "U = Vector(A, B, \"U\")\n",
    "\n",
    "print(U)\n",
    "U"
   ]
  },
  {
   "cell_type": "code",
   "execution_count": 17,
   "metadata": {},
   "outputs": [
    {
     "name": "stdout",
     "output_type": "stream",
     "text": [
      "U\n"
     ]
    },
    {
     "data": {
      "text/plain": [
       "Vector(1, -7)"
      ]
     },
     "execution_count": 17,
     "metadata": {},
     "output_type": "execute_result"
    }
   ],
   "source": [
    "U = Vector(x=1, y=-7, name=\"U\")\n",
    "\n",
    "print(U)\n",
    "U"
   ]
  },
  {
   "cell_type": "markdown",
   "metadata": {},
   "source": [
    "#### Affectation"
   ]
  },
  {
   "cell_type": "code",
   "execution_count": 18,
   "metadata": {},
   "outputs": [
    {
     "data": {
      "text/plain": [
       "(1, -7)"
      ]
     },
     "execution_count": 18,
     "metadata": {},
     "output_type": "execute_result"
    }
   ],
   "source": [
    "x, y = U\n",
    "(x, y)"
   ]
  },
  {
   "cell_type": "markdown",
   "metadata": {},
   "source": [
    "#### Equality"
   ]
  },
  {
   "cell_type": "code",
   "execution_count": 19,
   "metadata": {},
   "outputs": [
    {
     "data": {
      "text/plain": [
       "False"
      ]
     },
     "execution_count": 19,
     "metadata": {},
     "output_type": "execute_result"
    }
   ],
   "source": [
    "U == V"
   ]
  },
  {
   "cell_type": "code",
   "execution_count": 20,
   "metadata": {},
   "outputs": [
    {
     "data": {
      "text/plain": [
       "False"
      ]
     },
     "execution_count": 20,
     "metadata": {},
     "output_type": "execute_result"
    }
   ],
   "source": [
    "U == Z"
   ]
  },
  {
   "cell_type": "markdown",
   "metadata": {},
   "source": [
    "#### *Positive* and *Negative*"
   ]
  },
  {
   "cell_type": "code",
   "execution_count": 21,
   "metadata": {},
   "outputs": [
    {
     "name": "stdout",
     "output_type": "stream",
     "text": [
      "1 -7\n",
      "-1 7\n"
     ]
    }
   ],
   "source": [
    "print(U.x, U.y)\n",
    "U_neg = U.neg()\n",
    "print(U_neg.x, U_neg.y)"
   ]
  },
  {
   "cell_type": "markdown",
   "metadata": {},
   "source": [
    "#### Addition"
   ]
  },
  {
   "cell_type": "code",
   "execution_count": 22,
   "metadata": {},
   "outputs": [
    {
     "name": "stdout",
     "output_type": "stream",
     "text": [
      "Vector(1, -7) Vector(10, 5)\n"
     ]
    },
    {
     "data": {
      "text/plain": [
       "Vector(11, -2)"
      ]
     },
     "execution_count": 22,
     "metadata": {},
     "output_type": "execute_result"
    }
   ],
   "source": [
    "print(repr(U), repr(V))\n",
    "U + V"
   ]
  },
  {
   "cell_type": "code",
   "execution_count": 23,
   "metadata": {},
   "outputs": [
    {
     "name": "stdout",
     "output_type": "stream",
     "text": [
      "Point(5, 5) Vector(1, -7)\n",
      "new_u\n",
      "Point(6, -2)\n"
     ]
    }
   ],
   "source": [
    "print(repr(A), repr(U))\n",
    "\n",
    "new_U = U + A\n",
    "new_U.name = \"new_u\"\n",
    "\n",
    "print(new_U)\n",
    "print(repr(new_U))"
   ]
  },
  {
   "cell_type": "markdown",
   "metadata": {},
   "source": [
    "#### Soustraction"
   ]
  },
  {
   "cell_type": "code",
   "execution_count": 24,
   "metadata": {},
   "outputs": [
    {
     "name": "stdout",
     "output_type": "stream",
     "text": [
      "Vector(1, -7) Vector(10, 5)\n"
     ]
    },
    {
     "data": {
      "text/plain": [
       "Vector(-9, -12)"
      ]
     },
     "execution_count": 24,
     "metadata": {},
     "output_type": "execute_result"
    }
   ],
   "source": [
    "print(repr(U), repr(V))\n",
    "U - V"
   ]
  },
  {
   "cell_type": "code",
   "execution_count": 25,
   "metadata": {},
   "outputs": [
    {
     "name": "stdout",
     "output_type": "stream",
     "text": [
      "Point(5, 5) Vector(1, -7)\n",
      "new_u\n",
      "Point(4, 12)\n"
     ]
    }
   ],
   "source": [
    "print(repr(A), repr(U))\n",
    "\n",
    "new_U = U - A\n",
    "new_U.name = \"new_u\"\n",
    "\n",
    "print(new_U)\n",
    "print(repr(new_U))"
   ]
  },
  {
   "cell_type": "markdown",
   "metadata": {},
   "source": [
    "#### Multiplication"
   ]
  },
  {
   "cell_type": "code",
   "execution_count": 26,
   "metadata": {},
   "outputs": [
    {
     "name": "stdout",
     "output_type": "stream",
     "text": [
      "Vector(1, -7) Vector(10, 5)\n"
     ]
    },
    {
     "data": {
      "text/plain": [
       "Vector(10, -35)"
      ]
     },
     "execution_count": 26,
     "metadata": {},
     "output_type": "execute_result"
    }
   ],
   "source": [
    "print(repr(U), repr(V))\n",
    "U * V"
   ]
  },
  {
   "cell_type": "code",
   "execution_count": 27,
   "metadata": {},
   "outputs": [
    {
     "name": "stdout",
     "output_type": "stream",
     "text": [
      "5 * Vector(1, -7)\n",
      "new_u\n",
      "Vector(5, -35)\n"
     ]
    }
   ],
   "source": [
    "print(f\"5 * {repr(U)}\")\n",
    "\n",
    "new_U = U * 5\n",
    "new_U.name = \"new_u\"\n",
    "\n",
    "print(new_U)\n",
    "print(repr(new_U))"
   ]
  },
  {
   "cell_type": "markdown",
   "metadata": {},
   "source": [
    "#### Division"
   ]
  },
  {
   "cell_type": "code",
   "execution_count": 28,
   "metadata": {},
   "outputs": [
    {
     "name": "stdout",
     "output_type": "stream",
     "text": [
      "Vector(1, -7) Vector(10, 5)\n"
     ]
    },
    {
     "data": {
      "text/plain": [
       "Vector(0.1, -1.4)"
      ]
     },
     "execution_count": 28,
     "metadata": {},
     "output_type": "execute_result"
    }
   ],
   "source": [
    "print(repr(U), repr(V))\n",
    "U / V"
   ]
  },
  {
   "cell_type": "code",
   "execution_count": 29,
   "metadata": {},
   "outputs": [
    {
     "name": "stdout",
     "output_type": "stream",
     "text": [
      "5 / Vector(1, -7)\n",
      "new_u\n",
      "Vector(0.2, -1.4)\n"
     ]
    }
   ],
   "source": [
    "print(f\"5 / {repr(U)}\")\n",
    "\n",
    "new_U = U / 5\n",
    "new_U.name = \"new_u\"\n",
    "\n",
    "print(new_U)\n",
    "print(repr(new_U))"
   ]
  },
  {
   "cell_type": "markdown",
   "metadata": {},
   "source": [
    "#### Copy"
   ]
  },
  {
   "cell_type": "code",
   "execution_count": 30,
   "metadata": {},
   "outputs": [
    {
     "data": {
      "text/plain": [
       "(Vector(1, -7), Vector(1, -7))"
      ]
     },
     "execution_count": 30,
     "metadata": {},
     "output_type": "execute_result"
    }
   ],
   "source": [
    "W = U.copy()\n",
    "(U, W)"
   ]
  },
  {
   "cell_type": "markdown",
   "metadata": {},
   "source": [
    "#### Rotation"
   ]
  },
  {
   "cell_type": "code",
   "execution_count": 31,
   "metadata": {},
   "outputs": [
    {
     "data": {
      "text/plain": [
       "Vector(0, 5)"
      ]
     },
     "execution_count": 31,
     "metadata": {},
     "output_type": "execute_result"
    }
   ],
   "source": [
    "U = Vector(x=5, y=0)\n",
    "U = U.rotate(90)\n",
    "U.round()\n",
    "U"
   ]
  },
  {
   "cell_type": "markdown",
   "metadata": {},
   "source": [
    "## Variable"
   ]
  },
  {
   "cell_type": "code",
   "execution_count": 32,
   "metadata": {},
   "outputs": [
    {
     "data": {
      "text/plain": [
       "{'O': 'fill_circle(P,3,color)',\n",
       " '+': 'draw_croix(P,3,0,color)',\n",
       " '*': 'draw_croix(P,4,45,color)',\n",
       " '.': 'set_pixel(P.x,P.y,color)'}"
      ]
     },
     "execution_count": 32,
     "metadata": {},
     "output_type": "execute_result"
    }
   ],
   "source": [
    "DrawWithStyle"
   ]
  },
  {
   "cell_type": "code",
   "execution_count": 37,
   "metadata": {},
   "outputs": [
    {
     "data": {
      "text/plain": [
       "['O', '+', '*', '.']"
      ]
     },
     "execution_count": 37,
     "metadata": {},
     "output_type": "execute_result"
    }
   ],
   "source": [
    "list(DrawWithStyle.keys())"
   ]
  },
  {
   "cell_type": "markdown",
   "metadata": {},
   "source": [
    "## Functions"
   ]
  },
  {
   "cell_type": "markdown",
   "metadata": {},
   "source": [
    "### Technical Functions"
   ]
  },
  {
   "cell_type": "markdown",
   "metadata": {},
   "source": [
    "#### *expend*"
   ]
  },
  {
   "cell_type": "code",
   "execution_count": 33,
   "metadata": {},
   "outputs": [
    {
     "name": "stdout",
     "output_type": "stream",
     "text": [
      "[Point(0, 0), Point(1, 1), Point(2, 2), Point(3, 3)]\n",
      "[Point(-4, -4), Point(-1, -1), Point(2, 2), Point(5, 5)]\n",
      "[Point(0, 0), Point(3, 3), Point(6, 6), Point(9, 9)]\n"
     ]
    }
   ],
   "source": [
    "# Allows you to “zoom in” or “zoom out” points relative to the mean point, or to the point passed as an argument\n",
    "A, B, C, D = Point(0,0,\"A\"), Point(1,1,\"B\"), Point(2,2,\"C\"), Point(3,3,\"D\")\n",
    "\n",
    "liste0 = [A, B, C, D]\n",
    "\n",
    "liste1 = expend(liste0, d=2)\n",
    "liste2 = expend(liste0, d=2, M=A)\n",
    "\n",
    "print(repr(liste0))\n",
    "print(repr(liste1))\n",
    "print(repr(liste2))"
   ]
  },
  {
   "cell_type": "markdown",
   "metadata": {},
   "source": [
    "#### *connect_point*"
   ]
  },
  {
   "cell_type": "code",
   "execution_count": 34,
   "metadata": {},
   "outputs": [
    {
     "name": "stdout",
     "output_type": "stream",
     "text": [
      "A B C D \n",
      "('A', 'B') ('B', 'C') ('C', 'D') \n",
      "('A', 'B') ('B', 'C') ('C', 'D') ('D', 'A') "
     ]
    }
   ],
   "source": [
    "# Link a list of points to form tuples of “lines”\n",
    "A, B, C, D = Point(0,0,\"A\"), Point(1,1,\"B\"), Point(2,2,\"C\"), Point(3,3,\"D\")\n",
    "\n",
    "liste0 = [A, B, C, D]\n",
    "\n",
    "liste1 = connect_points(liste0, ending=False)\n",
    "liste2 = connect_points(liste0, ending=True)\n",
    "\n",
    "for i in liste0: print(i.name, end=' ')\n",
    "print()\n",
    "for i in liste1: print((i[0].name, i[1].name), end=' ')\n",
    "print()\n",
    "for i in liste2: print((i[0].name, i[1].name), end=' ')"
   ]
  },
  {
   "cell_type": "markdown",
   "metadata": {},
   "source": [
    "#### *findWithPoint*"
   ]
  },
  {
   "cell_type": "code",
   "execution_count": 35,
   "metadata": {},
   "outputs": [
    {
     "data": {
      "text/plain": [
       "Point(94.7213595499958, 72.36067977499789)"
      ]
     },
     "execution_count": 35,
     "metadata": {},
     "output_type": "execute_result"
    }
   ],
   "source": [
    "# Finds a point on the line by taking the two points given as arguments,\n",
    "# relative to a length given as an argument relative to the first point\n",
    "A, B = Point(50, 50, \"A\"), Point(150, 100, \"B\")\n",
    "\n",
    "findWithPoint(A, B, 50)"
   ]
  },
  {
   "cell_type": "markdown",
   "metadata": {},
   "source": [
    "#### *interpolate*"
   ]
  },
  {
   "cell_type": "code",
   "execution_count": 36,
   "metadata": {},
   "outputs": [
    {
     "data": {
      "text/plain": [
       "[(255.0, 42.5, 0.0),\n",
       " (255.0, 85.0, 0.0),\n",
       " (255.0, 127.5, 0.0),\n",
       " (255.0, 170.0, 0.0),\n",
       " (255.0, 212.5, 0.0)]"
      ]
     },
     "execution_count": 36,
     "metadata": {},
     "output_type": "execute_result"
    }
   ],
   "source": [
    "# Returns a list of color tuples interpolated between a first and second color passed as argument,\n",
    "# with N determining the number of interpolations\n",
    "red, yellow = (255,0,0), (255,255,0)\n",
    "\n",
    "interpolate(red, yellow, N=5)"
   ]
  }
 ],
 "metadata": {
  "kernelspec": {
   "display_name": "Python 3",
   "language": "python",
   "name": "python3"
  },
  "language_info": {
   "codemirror_mode": {
    "name": "ipython",
    "version": 3
   },
   "file_extension": ".py",
   "mimetype": "text/x-python",
   "name": "python",
   "nbconvert_exporter": "python",
   "pygments_lexer": "ipython3",
   "version": "3.12.4"
  }
 },
 "nbformat": 4,
 "nbformat_minor": 2
}
