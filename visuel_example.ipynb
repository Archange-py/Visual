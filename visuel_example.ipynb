{
 "cells": [
  {
   "cell_type": "markdown",
   "metadata": {},
   "source": [
    "<p align=\"center\" width=\"100%\">\n",
    "<img src=\".\\pictures\\logo\\logo_visuel.png\" alt=\"Visuel\">\n",
    "</p>"
   ]
  },
  {
   "cell_type": "markdown",
   "metadata": {},
   "source": [
    "# Visuel"
   ]
  },
  {
   "cell_type": "code",
   "execution_count": 1,
   "metadata": {},
   "outputs": [],
   "source": [
    "# Je recommande fortemment de n'importer que les fonctions et classes dont vous avez besoins,\n",
    "# sinon la calculatrice devra tout charger\n",
    "from visuel import *"
   ]
  },
  {
   "cell_type": "markdown",
   "metadata": {},
   "source": [
    "## Lamda functions"
   ]
  },
  {
   "cell_type": "code",
   "execution_count": 2,
   "metadata": {},
   "outputs": [],
   "source": [
    "A, B, C, D = Point(50, 10), Point(300, 200), Point(10, 200), Point(300, 10)\n",
    "U, V = Vector(A, B), Vector(C, D)"
   ]
  },
  {
   "cell_type": "code",
   "execution_count": 3,
   "metadata": {},
   "outputs": [
    {
     "data": {
      "text/plain": [
       "0.76"
      ]
     },
     "execution_count": 3,
     "metadata": {},
     "output_type": "execute_result"
    }
   ],
   "source": [
    "# a: Calcule le coefficient directeur d'une droite à partir de deux points\n",
    "a(A, B)"
   ]
  },
  {
   "cell_type": "code",
   "execution_count": 4,
   "metadata": {},
   "outputs": [
    {
     "data": {
      "text/plain": [
       "-28.0"
      ]
     },
     "execution_count": 4,
     "metadata": {},
     "output_type": "execute_result"
    }
   ],
   "source": [
    "# b: idem pour l'ordonnée à l'origine\n",
    "_a = a(A, B)\n",
    "b(_a, A)"
   ]
  },
  {
   "cell_type": "code",
   "execution_count": 5,
   "metadata": {},
   "outputs": [
    {
     "data": {
      "text/plain": [
       "Point(175.0, 105.0)"
      ]
     },
     "execution_count": 5,
     "metadata": {},
     "output_type": "execute_result"
    }
   ],
   "source": [
    "# milieu: calcule les coordonnées x et y du milieu, en prenant 2 points comme paramètre du segment, et retourne un tuple\n",
    "milieu(A, B, 2)"
   ]
  },
  {
   "cell_type": "code",
   "execution_count": 6,
   "metadata": {},
   "outputs": [
    {
     "data": {
      "text/plain": [
       "314.00636936215164"
      ]
     },
     "execution_count": 6,
     "metadata": {},
     "output_type": "execute_result"
    }
   ],
   "source": [
    "# distance: calcule la distance entre deux points\n",
    "distance(A, B)"
   ]
  },
  {
   "cell_type": "code",
   "execution_count": 7,
   "metadata": {},
   "outputs": [
    {
     "data": {
      "text/plain": [
       "Point(175.0, 105.0)"
      ]
     },
     "execution_count": 7,
     "metadata": {},
     "output_type": "execute_result"
    }
   ],
   "source": [
    "# linear: retourne le point qui se trouve sur une droite linéaire avec une valeure t\n",
    "linear(0.5, A, B) # ici, le milieu"
   ]
  },
  {
   "cell_type": "code",
   "execution_count": 8,
   "metadata": {},
   "outputs": [
    {
     "data": {
      "text/plain": [
       "Point(165.0, 152.5)"
      ]
     },
     "execution_count": 8,
     "metadata": {},
     "output_type": "execute_result"
    }
   ],
   "source": [
    "# quadratic: retourne le point qui se trouve sur une droite quadratique avec une valeure t\n",
    "quadratic(0.5, A, B, C) # ici, le sommet"
   ]
  },
  {
   "cell_type": "code",
   "execution_count": 9,
   "metadata": {},
   "outputs": [
    {
     "data": {
      "text/plain": [
       "Point(-40.0, 190.0)"
      ]
     },
     "execution_count": 9,
     "metadata": {},
     "output_type": "execute_result"
    }
   ],
   "source": [
    "# quadratic_derivative: retourne le point de la dérivée à partir d'un point sur une droite quadratique avec une valeure t\n",
    "quadratic_derivative(0.5, A, B, C)"
   ]
  },
  {
   "cell_type": "code",
   "execution_count": 10,
   "metadata": {},
   "outputs": [
    {
     "data": {
      "text/plain": [
       "Point(160.0, 152.5)"
      ]
     },
     "execution_count": 10,
     "metadata": {},
     "output_type": "execute_result"
    }
   ],
   "source": [
    "# cubic: retourne le point qui se trouve sur une droite cubique avec une valeure t\n",
    "cubic(0.5, A, B, C, D)"
   ]
  },
  {
   "cell_type": "code",
   "execution_count": 11,
   "metadata": {},
   "outputs": [
    {
     "data": {
      "text/plain": [
       "4.6"
      ]
     },
     "execution_count": 11,
     "metadata": {},
     "output_type": "execute_result"
    }
   ],
   "source": [
    "# mean: calcule la moyenne d'une liste\n",
    "mean([1, 0.6, 7, 9, 5.4])"
   ]
  },
  {
   "cell_type": "code",
   "execution_count": 12,
   "metadata": {},
   "outputs": [
    {
     "data": {
      "text/plain": [
       "Point(175, 105)"
      ]
     },
     "execution_count": 12,
     "metadata": {},
     "output_type": "execute_result"
    }
   ],
   "source": [
    "# mean_point: calcule le point moyen dans une liste de points donnée\n",
    "mean_point([A, B])"
   ]
  },
  {
   "cell_type": "code",
   "execution_count": 13,
   "metadata": {},
   "outputs": [
    {
     "data": {
      "text/plain": [
       "-102600"
      ]
     },
     "execution_count": 13,
     "metadata": {},
     "output_type": "execute_result"
    }
   ],
   "source": [
    "# dot: calcule le déterminant de deux vecteurs\n",
    "dot(U, V)"
   ]
  },
  {
   "cell_type": "markdown",
   "metadata": {},
   "source": [
    "## Classes"
   ]
  },
  {
   "cell_type": "markdown",
   "metadata": {},
   "source": [
    "### Point"
   ]
  },
  {
   "cell_type": "code",
   "execution_count": 14,
   "metadata": {},
   "outputs": [],
   "source": [
    "A, B, C = Point(-3, 2, \"A\"), Point(2, -3, \"B\"), Point(-3, 2, \"C\")"
   ]
  },
  {
   "cell_type": "code",
   "execution_count": 15,
   "metadata": {},
   "outputs": [
    {
     "name": "stdout",
     "output_type": "stream",
     "text": [
      "A\n"
     ]
    },
    {
     "data": {
      "text/plain": [
       "Point(-3, 2)"
      ]
     },
     "execution_count": 15,
     "metadata": {},
     "output_type": "execute_result"
    }
   ],
   "source": [
    "print(A)\n",
    "A"
   ]
  },
  {
   "cell_type": "code",
   "execution_count": 16,
   "metadata": {},
   "outputs": [
    {
     "data": {
      "text/plain": [
       "(-3, 2)"
      ]
     },
     "execution_count": 16,
     "metadata": {},
     "output_type": "execute_result"
    }
   ],
   "source": [
    "x, y = A\n",
    "(x, y)"
   ]
  },
  {
   "cell_type": "code",
   "execution_count": 17,
   "metadata": {},
   "outputs": [
    {
     "data": {
      "text/plain": [
       "False"
      ]
     },
     "execution_count": 17,
     "metadata": {},
     "output_type": "execute_result"
    }
   ],
   "source": [
    "A == B"
   ]
  },
  {
   "cell_type": "code",
   "execution_count": 18,
   "metadata": {},
   "outputs": [
    {
     "data": {
      "text/plain": [
       "True"
      ]
     },
     "execution_count": 18,
     "metadata": {},
     "output_type": "execute_result"
    }
   ],
   "source": [
    "A == C"
   ]
  },
  {
   "cell_type": "code",
   "execution_count": 19,
   "metadata": {},
   "outputs": [
    {
     "data": {
      "text/plain": [
       "(Point(-3, 2), Point(-3, 2))"
      ]
     },
     "execution_count": 19,
     "metadata": {},
     "output_type": "execute_result"
    }
   ],
   "source": [
    "D = A.copy()\n",
    "(A, D)"
   ]
  },
  {
   "cell_type": "code",
   "execution_count": 20,
   "metadata": {},
   "outputs": [
    {
     "name": "stdout",
     "output_type": "stream",
     "text": [
      "Point(0.678, 0.981)\n",
      "Point(1, 1)\n"
     ]
    }
   ],
   "source": [
    "E = Point(0.678, 0.981)\n",
    "print(repr(E))\n",
    "round(E)\n",
    "print(repr(E))"
   ]
  },
  {
   "cell_type": "markdown",
   "metadata": {},
   "source": [
    "### Vector"
   ]
  },
  {
   "cell_type": "markdown",
   "metadata": {},
   "source": [
    "#### *String* and *Representation*"
   ]
  },
  {
   "cell_type": "code",
   "execution_count": 21,
   "metadata": {},
   "outputs": [],
   "source": [
    "A, B, C, D = Point(5, 5, \"A\"), Point(10, 10, \"B\"), Point(15, 5, \"C\"), Point(20, 15, \"D\")\n",
    "V, Z = Vector(B, D, \"V\"), Vector(A, B, \"Z\")"
   ]
  },
  {
   "cell_type": "code",
   "execution_count": 22,
   "metadata": {},
   "outputs": [
    {
     "name": "stdout",
     "output_type": "stream",
     "text": [
      "\n"
     ]
    },
    {
     "data": {
      "text/plain": [
       "Vector(5, 5)"
      ]
     },
     "execution_count": 22,
     "metadata": {},
     "output_type": "execute_result"
    }
   ],
   "source": [
    "U = Vector(A, B, \"U\")\n",
    "\n",
    "print(U)\n",
    "U"
   ]
  },
  {
   "cell_type": "code",
   "execution_count": 23,
   "metadata": {},
   "outputs": [
    {
     "name": "stdout",
     "output_type": "stream",
     "text": [
      "U\n"
     ]
    },
    {
     "data": {
      "text/plain": [
       "Vector(1, -7)"
      ]
     },
     "execution_count": 23,
     "metadata": {},
     "output_type": "execute_result"
    }
   ],
   "source": [
    "U = Vector(x=1, y=-7, name=\"U\")\n",
    "\n",
    "print(U)\n",
    "U"
   ]
  },
  {
   "cell_type": "markdown",
   "metadata": {},
   "source": [
    "#### Affectation"
   ]
  },
  {
   "cell_type": "code",
   "execution_count": 24,
   "metadata": {},
   "outputs": [
    {
     "data": {
      "text/plain": [
       "(1, -7)"
      ]
     },
     "execution_count": 24,
     "metadata": {},
     "output_type": "execute_result"
    }
   ],
   "source": [
    "x, y = U\n",
    "(x, y)"
   ]
  },
  {
   "cell_type": "markdown",
   "metadata": {},
   "source": [
    "#### Equality"
   ]
  },
  {
   "cell_type": "code",
   "execution_count": 25,
   "metadata": {},
   "outputs": [
    {
     "data": {
      "text/plain": [
       "False"
      ]
     },
     "execution_count": 25,
     "metadata": {},
     "output_type": "execute_result"
    }
   ],
   "source": [
    "U == V"
   ]
  },
  {
   "cell_type": "code",
   "execution_count": 26,
   "metadata": {},
   "outputs": [
    {
     "data": {
      "text/plain": [
       "False"
      ]
     },
     "execution_count": 26,
     "metadata": {},
     "output_type": "execute_result"
    }
   ],
   "source": [
    "U == Z"
   ]
  },
  {
   "cell_type": "markdown",
   "metadata": {},
   "source": [
    "#### *Positive* and *Negative*"
   ]
  },
  {
   "cell_type": "code",
   "execution_count": 27,
   "metadata": {},
   "outputs": [
    {
     "name": "stdout",
     "output_type": "stream",
     "text": [
      "1 -7\n",
      "1 -7\n"
     ]
    }
   ],
   "source": [
    "print(U.x, U.y)\n",
    "U_pos = +U\n",
    "print(U_pos.x, U_pos.y)"
   ]
  },
  {
   "cell_type": "code",
   "execution_count": 28,
   "metadata": {},
   "outputs": [
    {
     "name": "stdout",
     "output_type": "stream",
     "text": [
      "1 -7\n",
      "-1 7\n"
     ]
    }
   ],
   "source": [
    "print(U.x, U.y)\n",
    "U_neg = -U\n",
    "print(U_neg.x, U_neg.y)"
   ]
  },
  {
   "cell_type": "markdown",
   "metadata": {},
   "source": [
    "#### Addition"
   ]
  },
  {
   "cell_type": "code",
   "execution_count": 29,
   "metadata": {},
   "outputs": [
    {
     "name": "stdout",
     "output_type": "stream",
     "text": [
      "Vector(1, -7) Vector(10, 5)\n"
     ]
    },
    {
     "data": {
      "text/plain": [
       "Vector(11, -2)"
      ]
     },
     "execution_count": 29,
     "metadata": {},
     "output_type": "execute_result"
    }
   ],
   "source": [
    "print(repr(U), repr(V))\n",
    "U + V"
   ]
  },
  {
   "cell_type": "code",
   "execution_count": 30,
   "metadata": {},
   "outputs": [
    {
     "name": "stdout",
     "output_type": "stream",
     "text": [
      "Point(5, 5) Vector(1, -7)\n",
      "new_u\n",
      "Point(6, -2)\n"
     ]
    }
   ],
   "source": [
    "print(repr(A), repr(U))\n",
    "\n",
    "new_U = A + U\n",
    "new_U.name = \"new_u\"\n",
    "\n",
    "print(new_U)\n",
    "print(repr(new_U))"
   ]
  },
  {
   "cell_type": "markdown",
   "metadata": {},
   "source": [
    "#### Soustraction"
   ]
  },
  {
   "cell_type": "code",
   "execution_count": 31,
   "metadata": {},
   "outputs": [
    {
     "name": "stdout",
     "output_type": "stream",
     "text": [
      "Vector(1, -7) Vector(10, 5)\n"
     ]
    },
    {
     "data": {
      "text/plain": [
       "Vector(-9, -12)"
      ]
     },
     "execution_count": 31,
     "metadata": {},
     "output_type": "execute_result"
    }
   ],
   "source": [
    "print(repr(U), repr(V))\n",
    "U - V"
   ]
  },
  {
   "cell_type": "code",
   "execution_count": 32,
   "metadata": {},
   "outputs": [
    {
     "name": "stdout",
     "output_type": "stream",
     "text": [
      "Point(5, 5) Vector(1, -7)\n",
      "new_u\n",
      "Point(4, 12)\n"
     ]
    }
   ],
   "source": [
    "print(repr(A), repr(U))\n",
    "\n",
    "new_U = A - U\n",
    "new_U.name = \"new_u\"\n",
    "\n",
    "print(new_U)\n",
    "print(repr(new_U))"
   ]
  },
  {
   "cell_type": "markdown",
   "metadata": {},
   "source": [
    "#### Multiplication"
   ]
  },
  {
   "cell_type": "code",
   "execution_count": 33,
   "metadata": {},
   "outputs": [
    {
     "name": "stdout",
     "output_type": "stream",
     "text": [
      "Vector(1, -7) Vector(10, 5)\n"
     ]
    },
    {
     "data": {
      "text/plain": [
       "Vector(10, -35)"
      ]
     },
     "execution_count": 33,
     "metadata": {},
     "output_type": "execute_result"
    }
   ],
   "source": [
    "print(repr(U), repr(V))\n",
    "U * V"
   ]
  },
  {
   "cell_type": "code",
   "execution_count": 34,
   "metadata": {},
   "outputs": [
    {
     "name": "stdout",
     "output_type": "stream",
     "text": [
      "5 Vector(1, -7)\n",
      "new_u\n",
      "Vector(5, -35)\n"
     ]
    }
   ],
   "source": [
    "print(5, repr(U))\n",
    "\n",
    "new_U = 5 * U\n",
    "new_U.name = \"new_u\"\n",
    "\n",
    "print(new_U)\n",
    "print(repr(new_U))"
   ]
  },
  {
   "cell_type": "markdown",
   "metadata": {},
   "source": [
    "#### Division"
   ]
  },
  {
   "cell_type": "code",
   "execution_count": 35,
   "metadata": {},
   "outputs": [
    {
     "name": "stdout",
     "output_type": "stream",
     "text": [
      "Vector(1, -7) Vector(10, 5)\n"
     ]
    },
    {
     "data": {
      "text/plain": [
       "Vector(0.1, -1.4)"
      ]
     },
     "execution_count": 35,
     "metadata": {},
     "output_type": "execute_result"
    }
   ],
   "source": [
    "print(repr(U), repr(V))\n",
    "U / V"
   ]
  },
  {
   "cell_type": "code",
   "execution_count": 36,
   "metadata": {},
   "outputs": [
    {
     "name": "stdout",
     "output_type": "stream",
     "text": [
      "5 Vector(1, -7)\n",
      "new_u\n",
      "Vector(5, -35)\n"
     ]
    }
   ],
   "source": [
    "print(5, repr(U))\n",
    "\n",
    "new_U = 5 * U\n",
    "new_U.name = \"new_u\"\n",
    "\n",
    "print(new_U)\n",
    "print(repr(new_U))"
   ]
  },
  {
   "cell_type": "markdown",
   "metadata": {},
   "source": [
    "#### Copy"
   ]
  },
  {
   "cell_type": "code",
   "execution_count": 37,
   "metadata": {},
   "outputs": [
    {
     "data": {
      "text/plain": [
       "(Vector(1, -7), Vector(1, -7))"
      ]
     },
     "execution_count": 37,
     "metadata": {},
     "output_type": "execute_result"
    }
   ],
   "source": [
    "W = U.copy()\n",
    "(U, W)"
   ]
  },
  {
   "cell_type": "markdown",
   "metadata": {},
   "source": [
    "#### Rotation"
   ]
  },
  {
   "cell_type": "code",
   "execution_count": 38,
   "metadata": {},
   "outputs": [
    {
     "data": {
      "text/plain": [
       "Vector(0, 5)"
      ]
     },
     "execution_count": 38,
     "metadata": {},
     "output_type": "execute_result"
    }
   ],
   "source": [
    "U = Vector(x=5, y=0)\n",
    "U = U.rotate(90)\n",
    "round(U)\n",
    "U"
   ]
  },
  {
   "cell_type": "markdown",
   "metadata": {},
   "source": [
    "### Screen"
   ]
  },
  {
   "cell_type": "code",
   "execution_count": 39,
   "metadata": {},
   "outputs": [
    {
     "name": "stdout",
     "output_type": "stream",
     "text": [
      "{'Background': (248, 252, 248), 'PrimaryColor': (0, 0, 0), 'SecondaryColor': (200, 200, 200), 'PrimaryText': (0, 0, 0), 'SecondaryText': (248, 252, 248)}\n"
     ]
    }
   ],
   "source": [
    "print(Screen.palette)"
   ]
  },
  {
   "cell_type": "code",
   "execution_count": 40,
   "metadata": {},
   "outputs": [
    {
     "name": "stdout",
     "output_type": "stream",
     "text": [
      "dict_keys(['[]', '([])', '<>', '(<>)', 'O', '(O)', '*', '+', '.'])\n"
     ]
    }
   ],
   "source": [
    "print(Screen.style.keys())"
   ]
  },
  {
   "cell_type": "code",
   "execution_count": 41,
   "metadata": {},
   "outputs": [
    {
     "name": "stdout",
     "output_type": "stream",
     "text": [
      "320 222\n"
     ]
    }
   ],
   "source": [
    "print(Screen.width, Screen.height)"
   ]
  },
  {
   "cell_type": "code",
   "execution_count": 42,
   "metadata": {},
   "outputs": [
    {
     "name": "stdout",
     "output_type": "stream",
     "text": [
      "Point(160, 111)\n"
     ]
    }
   ],
   "source": [
    "print(repr(Screen.center))"
   ]
  },
  {
   "cell_type": "markdown",
   "metadata": {},
   "source": [
    "## Functions"
   ]
  },
  {
   "cell_type": "markdown",
   "metadata": {},
   "source": [
    "### Technical Functions"
   ]
  },
  {
   "cell_type": "markdown",
   "metadata": {},
   "source": [
    "#### *expend*"
   ]
  },
  {
   "cell_type": "code",
   "execution_count": 43,
   "metadata": {},
   "outputs": [
    {
     "name": "stdout",
     "output_type": "stream",
     "text": [
      "[Point(0, 0), Point(1, 1), Point(2, 2), Point(3, 3)]\n",
      "[Point(-4, -4), Point(-1, -1), Point(2, 2), Point(5, 5)]\n",
      "[Point(0, 0), Point(3, 3), Point(6, 6), Point(9, 9)]\n"
     ]
    }
   ],
   "source": [
    "# Permet de \"zoomer\" ou \"dézoomer\" des points par rapport au point moyen, ou à celui passer en argument\n",
    "A, B, C, D = Point(0,0,\"A\"), Point(1,1,\"B\"), Point(2,2,\"C\"), Point(3,3,\"D\")\n",
    "\n",
    "liste0 = [A, B, C, D]\n",
    "\n",
    "liste1 = expend(liste0, d=2)\n",
    "liste2 = expend(liste0, d=2, M=A)\n",
    "\n",
    "print(repr(liste0))\n",
    "print(repr(liste1))\n",
    "print(repr(liste2))"
   ]
  },
  {
   "cell_type": "markdown",
   "metadata": {},
   "source": [
    "#### *connect_point*"
   ]
  },
  {
   "cell_type": "code",
   "execution_count": 44,
   "metadata": {},
   "outputs": [
    {
     "name": "stdout",
     "output_type": "stream",
     "text": [
      "A B C D \n",
      "('A', 'B') ('B', 'C') ('C', 'D') \n",
      "('A', 'B') ('B', 'C') ('C', 'D') ('D', 'A') "
     ]
    }
   ],
   "source": [
    "# Permet de relier une liste de point pour former des tuples de \"lignes\"\n",
    "A, B, C, D = Point(0,0,\"A\"), Point(1,1,\"B\"), Point(2,2,\"C\"), Point(3,3,\"D\")\n",
    "\n",
    "liste0 = [A, B, C, D]\n",
    "\n",
    "liste1 = connect_points(liste0, ending=False)\n",
    "liste2 = connect_points(liste0, ending=True)\n",
    "\n",
    "for i in liste0: print(i.name, end=' ')\n",
    "print()\n",
    "for i in liste1: print((i[0].name, i[1].name), end=' ')\n",
    "print()\n",
    "for i in liste2: print((i[0].name, i[1].name), end=' ')"
   ]
  },
  {
   "cell_type": "markdown",
   "metadata": {},
   "source": [
    "#### *findWithPoint*"
   ]
  },
  {
   "cell_type": "code",
   "execution_count": 45,
   "metadata": {},
   "outputs": [
    {
     "data": {
      "text/plain": [
       "Point(94.7213595499958, 72.36067977499789)"
      ]
     },
     "execution_count": 45,
     "metadata": {},
     "output_type": "execute_result"
    }
   ],
   "source": [
    "# Permet de trouver un point sur la droite passant par les deux points donné en argument,\n",
    "# par rapport à la distance aussi donné en argumen au premier point\n",
    "A, B = Point(50, 50, \"A\"), Point(150, 100, \"B\")\n",
    "\n",
    "findWithPoint(A, B, 50)"
   ]
  },
  {
   "cell_type": "markdown",
   "metadata": {},
   "source": [
    "#### *findWithAngle*"
   ]
  },
  {
   "cell_type": "code",
   "execution_count": 46,
   "metadata": {},
   "outputs": [
    {
     "data": {
      "text/plain": [
       "Point(11.588936020131207, 82.009219983224)"
      ]
     },
     "execution_count": 46,
     "metadata": {},
     "output_type": "execute_result"
    }
   ],
   "source": [
    "# Permet de simplifier deux opérations en une seule: la rotation du vecteur donné en argument,\n",
    "# puis sa redimension avec le rayon également donné en argument\n",
    "A = Point(50, 50, \"A\")\n",
    "V = Vector(x=5, y=6)\n",
    "\n",
    "findWithAngle(A, V, angle=90, rayon=50)"
   ]
  },
  {
   "cell_type": "markdown",
   "metadata": {},
   "source": [
    "#### *interpolate*"
   ]
  },
  {
   "cell_type": "code",
   "execution_count": 51,
   "metadata": {},
   "outputs": [
    {
     "data": {
      "text/plain": [
       "[(255, 0, 0),\n",
       " (255, 85.0, 0),\n",
       " (255, 141.66666666666666, 0),\n",
       " (255, 179.44444444444443, 0),\n",
       " (255, 255, 0)]"
      ]
     },
     "execution_count": 51,
     "metadata": {},
     "output_type": "execute_result"
    }
   ],
   "source": [
    "# Retourne une liste de tuples de couleurs interpolées entre une première et une deuxième couleur\n",
    "# passé en argument, avec N qui détermine le nombre de tuple.\n",
    "red, yellow = (255,0,0), (255,255,0)\n",
    "\n",
    "interpolate(red, yellow, N=5)"
   ]
  },
  {
   "cell_type": "markdown",
   "metadata": {},
   "source": [
    "### Graphics Functions"
   ]
  },
  {
   "cell_type": "markdown",
   "metadata": {},
   "source": [
    "#### *scatter*"
   ]
  },
  {
   "cell_type": "code",
   "execution_count": 48,
   "metadata": {},
   "outputs": [],
   "source": [
    "# Affiche des points avec une liste de coordonnées x et y passé en argument. \n",
    "# Il est possible de modifier le style du point.\n",
    "# Il faut que les deux listes soient de même taille."
   ]
  },
  {
   "cell_type": "markdown",
   "metadata": {},
   "source": [
    "#### *plot*"
   ]
  },
  {
   "cell_type": "code",
   "execution_count": 49,
   "metadata": {},
   "outputs": [],
   "source": [
    "# Affiche les lignes qui relient les point grâce à une liste de coordonnées x et y passé en argument. \n",
    "# Il faut que les deux listes soient de même taille."
   ]
  },
  {
   "cell_type": "markdown",
   "metadata": {},
   "source": [
    "#### *alpha_pixel*"
   ]
  },
  {
   "cell_type": "code",
   "execution_count": 50,
   "metadata": {},
   "outputs": [],
   "source": [
    "# Permet de placer un pixel à des coordonnées x et y comme la fonction set_pixel de kandinsky,\n",
    "# avec la possibilité de changer la couche alpha.\n",
    "# Le paramètre alpha, attend un float compris entre 0.0 et 1.0."
   ]
  },
  {
   "cell_type": "markdown",
   "metadata": {},
   "source": [
    "#### *draw_points*"
   ]
  },
  {
   "cell_type": "markdown",
   "metadata": {},
   "source": [
    "#### *draw_croix*"
   ]
  }
 ],
 "metadata": {
  "kernelspec": {
   "display_name": "Python 3",
   "language": "python",
   "name": "python3"
  },
  "language_info": {
   "codemirror_mode": {
    "name": "ipython",
    "version": 3
   },
   "file_extension": ".py",
   "mimetype": "text/x-python",
   "name": "python",
   "nbconvert_exporter": "python",
   "pygments_lexer": "ipython3",
   "version": "3.11.5"
  }
 },
 "nbformat": 4,
 "nbformat_minor": 2
}
