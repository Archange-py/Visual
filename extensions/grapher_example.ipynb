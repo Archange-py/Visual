{
 "cells": [
  {
   "cell_type": "markdown",
   "metadata": {},
   "source": [
    "# [Extension for Visuel on computer] Grapher"
   ]
  },
  {
   "cell_type": "markdown",
   "metadata": {},
   "source": [
    "```Python\n",
    "from ext_grapher import Grapher, axes, show, clean, scatter, plot, points, lines, vector, droite\n",
    "from visuel import Point, Vector, fill_rect\n",
    "from random import randint\n",
    "from time import sleep\n",
    "```"
   ]
  },
  {
   "cell_type": "markdown",
   "metadata": {},
   "source": [
    "> Use it only on a computer! It's too heavy for the calculator"
   ]
  },
  {
   "cell_type": "markdown",
   "metadata": {},
   "source": [
    "> Text and vector arrows can 'overflow' outside the desired frame"
   ]
  },
  {
   "cell_type": "markdown",
   "metadata": {},
   "source": [
    "## Fonction: Axes and Show"
   ]
  },
  {
   "cell_type": "markdown",
   "metadata": {},
   "source": [
    "### Examples"
   ]
  },
  {
   "cell_type": "markdown",
   "metadata": {},
   "source": [
    "```Python\n",
    "axes()\n",
    "```\n",
    "\n",
    "> axes() is a static image and show() an animation as in matplotlib.pyplot"
   ]
  },
  {
   "cell_type": "markdown",
   "metadata": {},
   "source": [
    "<p align=\"center\"> <img src=\".\\grapher_pictures\\example_fonction_axes_1.png\"> </p>"
   ]
  },
  {
   "cell_type": "markdown",
   "metadata": {},
   "source": [
    "```python\n",
    "Screen.palette[\"PrimaryColor\"] = (255,0,0)\n",
    "Screen.palette[\"SecondaryColor\"] = \"orange\"\n",
    "Screen.palette[\"ThirdColor\"] = \"yellow\"\n",
    "\n",
    "axes()\n",
    "```"
   ]
  },
  {
   "cell_type": "markdown",
   "metadata": {},
   "source": [
    "<p align=\"center\"> <img src=\".\\grapher_pictures\\example_fonction_axes_2.png\"> </p>"
   ]
  },
  {
   "cell_type": "markdown",
   "metadata": {},
   "source": [
    "```Python\n",
    "Grapher_with_no_text = Grapher(text=False)\n",
    "axes(Grapher_with_no_text)\n",
    "```"
   ]
  },
  {
   "cell_type": "markdown",
   "metadata": {},
   "source": [
    "<p align=\"center\"> <img src=\".\\grapher_pictures\\example_fonction_axes_poo_1.png\" alt=\"Visuel\"> </p>"
   ]
  },
  {
   "cell_type": "markdown",
   "metadata": {},
   "source": [
    "```Python\n",
    "Grapher_with_no_text = Grapher(text=False)\n",
    "\n",
    "Screen.palette[\"PrimaryColor\"] = (255,0,0)\n",
    "Screen.palette[\"SecondaryColor\"] = \"orange\"\n",
    "Screen.palette[\"ThirdColor\"] = \"yellow\"\n",
    "\n",
    "axes(Grapher_with_no_text)\n",
    "```"
   ]
  },
  {
   "cell_type": "markdown",
   "metadata": {},
   "source": [
    "<p align=\"center\"> <img src=\".\\grapher_pictures\\example_fonction_axes_poo_2.png\" alt=\"Visuel\"> </p>"
   ]
  },
  {
   "cell_type": "markdown",
   "metadata": {},
   "source": [
    "```Python\n",
    "G_no_background = Grapher(background=False,color1=(255,0,0),color2=\"white\",color3=\"white\")\n",
    "\n",
    "Screen.palette[\"PrimaryText\"] = \"red\"\n",
    "\n",
    "axes(G_no_background)\n",
    "```"
   ]
  },
  {
   "cell_type": "markdown",
   "metadata": {},
   "source": [
    "<p align=\"center\"> <img src=\".\\grapher_pictures\\example_fonction_axes_poo_3.png\" alt=\"Visuel\"> </p>"
   ]
  },
  {
   "cell_type": "markdown",
   "metadata": {},
   "source": [
    "```Python\n",
    "G_no_background = Grapher(background=False)\n",
    "\n",
    "Screen.palette[\"PrimaryColor\"] = (255,255,255)\n",
    "Screen.palette[\"PrimaryText\"] = \"white\"\n",
    "Screen.palette[\"SecondaryText\"] = \"black\"\n",
    "Screen.palette[\"Background\"] = (0,0,0)\n",
    "\n",
    "fill_rect(0,0,320,222,\"black\")\n",
    "axes(G_no_background)\n",
    "```"
   ]
  },
  {
   "cell_type": "markdown",
   "metadata": {},
   "source": [
    "<p align=\"center\"> <img src=\".\\grapher_pictures\\example_fonction_axes_poo_4.png\"> </p>"
   ]
  },
  {
   "cell_type": "markdown",
   "metadata": {},
   "source": [
    "```Python\n",
    "G = Grapher(Lxd=80,Lxg=80,Lyb=100,Lyh=100,C=Point(90,111),text=False)\n",
    "\n",
    "show(G)\n",
    "```"
   ]
  },
  {
   "cell_type": "markdown",
   "metadata": {},
   "source": [
    "<p align=\"center\"> <img src=\".\\grapher_pictures\\example_fonction_axes_poo_5.png\"> </p>"
   ]
  },
  {
   "cell_type": "markdown",
   "metadata": {},
   "source": [
    "```Python\n",
    "G = Grapher(Lxd=50,Lxg=50,Lyb=50,Lyh=50,C=Point(260,60),text=False)\n",
    "\n",
    "show(G)\n",
    "```"
   ]
  },
  {
   "cell_type": "markdown",
   "metadata": {},
   "source": [
    "<p align=\"center\"> <img src=\".\\grapher_pictures\\example_fonction_axes_poo_6.png\"> </p>"
   ]
  },
  {
   "cell_type": "markdown",
   "metadata": {},
   "source": [
    "```Python\n",
    "G = Grapher(p=50,pas=1,text=False)\n",
    "\n",
    "show(G)\n",
    "```\n",
    "\n",
    "> You can use 'p' for the zoom factor, and 'pas' for incrementing."
   ]
  },
  {
   "cell_type": "markdown",
   "metadata": {},
   "source": [
    "## Fonction: Scatter and Points"
   ]
  },
  {
   "cell_type": "markdown",
   "metadata": {},
   "source": [
    "### Type of points"
   ]
  },
  {
   "cell_type": "code",
   "execution_count": 2,
   "metadata": {},
   "outputs": [
    {
     "name": "stdout",
     "output_type": "stream",
     "text": [
      "O + * . "
     ]
    }
   ],
   "source": [
    "from visuel import DrawWithStyle\n",
    "\n",
    "for style in DrawWithStyle: print(style, end=\" \")"
   ]
  },
  {
   "cell_type": "markdown",
   "metadata": {},
   "source": [
    "### Examples"
   ]
  },
  {
   "cell_type": "markdown",
   "metadata": {},
   "source": [
    "Scatter:\n",
    "```Python\n",
    "X = [randint(-5, 5) for _ in range(3)]\n",
    "Y = [randint(-5, 5) for _ in range(3)]\n",
    "\n",
    "scatter(X, Y, \"red\", \"O\")\n",
    "\n",
    "show()\n",
    "```\n",
    "\n",
    "Points:\n",
    "```Python\n",
    "liste_of_points = [Point(randint(-5,5),randint(-5,5)) for _ in range(3)]\n",
    "\n",
    "points(liste_of_points, \"red\")\n",
    "\n",
    "show()\n",
    "```"
   ]
  },
  {
   "cell_type": "markdown",
   "metadata": {},
   "source": [
    "<p align=\"center\"> <img src=\".\\grapher_pictures\\example_fonction_scatter_and_points_2.png\" alt=\"Visuel\"> </p>"
   ]
  },
  {
   "cell_type": "markdown",
   "metadata": {},
   "source": [
    "```Python\n",
    "G = Grapher()\n",
    "\n",
    "for x, style in enumerate(list(Screen.style.keys())): scatter([x+1], [3], \"red\", style, grapher=G)\n",
    "for x, style in enumerate(list(Screen.style.keys())): scatter([x+1], [2], \"green\", style, grapher=G)\n",
    "for x, style in enumerate(list(Screen.style.keys())): scatter([x+1], [1], \"blue\", style, grapher=G)\n",
    "\n",
    "show(G)\n",
    "```"
   ]
  },
  {
   "cell_type": "markdown",
   "metadata": {},
   "source": [
    "<p align=\"center\"> <img src=\".\\grapher_pictures\\example_fonction_scatter_and_points_1.png\"> </p>"
   ]
  },
  {
   "cell_type": "markdown",
   "metadata": {},
   "source": [
    "## Fonction: Plot and Lines"
   ]
  },
  {
   "cell_type": "markdown",
   "metadata": {},
   "source": [
    "### Examples"
   ]
  },
  {
   "cell_type": "markdown",
   "metadata": {},
   "source": [
    "Plot:\n",
    "```Python\n",
    "G = Grapher()\n",
    "\n",
    "X = [randint(-3, 3) for _ in range(10)]\n",
    "Y = [randint(-3, 3) for _ in range(10)]\n",
    "\n",
    "plot(X, Y, \"red\", grapher=G)\n",
    "\n",
    "show(G)\n",
    "```\n",
    "Lines:\n",
    "```Python\n",
    "G = Grapher()\n",
    "\n",
    "list_of_points = [Point(randint(-3, 3),randint(-3, 3)) for _ in range(10)]\n",
    "\n",
    "lines(list_of_points, \"red\", grapher=G)\n",
    "\n",
    "show(G)\n",
    "```"
   ]
  },
  {
   "cell_type": "markdown",
   "metadata": {},
   "source": [
    "<p align=\"center\"> <img src=\".\\grapher_pictures\\example_fonction_plot_and_lines_1.png\"> </p>"
   ]
  },
  {
   "cell_type": "markdown",
   "metadata": {},
   "source": [
    "## Fonction: Vector"
   ]
  },
  {
   "cell_type": "markdown",
   "metadata": {},
   "source": [
    "### Examples"
   ]
  },
  {
   "cell_type": "markdown",
   "metadata": {},
   "source": [
    "```Python\n",
    "V = Vector(x=3,y=-1)\n",
    "U = Vector(x=-3,y=1)\n",
    "W = Vector(x=3,y=1)\n",
    "Z = Vector(x=-3,y=-1)\n",
    "\n",
    "A = Point(0,0)\n",
    "\n",
    "vector(A,V,\"green\")\n",
    "vector(A,U,\"red\")\n",
    "vector(A,W,\"blue\")\n",
    "vector(A,Z,\"orange\")\n",
    "\n",
    "show()\n",
    "```"
   ]
  },
  {
   "cell_type": "markdown",
   "metadata": {},
   "source": [
    "<p align=\"center\"> <img src=\".\\grapher_pictures\\example_fonction_vector_1.png\"> </p>"
   ]
  },
  {
   "cell_type": "markdown",
   "metadata": {},
   "source": [
    "## Fonction: Droite"
   ]
  },
  {
   "cell_type": "markdown",
   "metadata": {},
   "source": [
    "### Examples"
   ]
  },
  {
   "cell_type": "markdown",
   "metadata": {},
   "source": [
    "```Python\n",
    "A = Point(0,0)\n",
    "B = Point(-5,-1)\n",
    "V = Vector(x=3, y=6)\n",
    "\n",
    "droite(A, B, \"orange\")\n",
    "droite(A, V+A, \"green\")\n",
    "\n",
    "show()\n",
    "```"
   ]
  },
  {
   "cell_type": "markdown",
   "metadata": {},
   "source": [
    "<p align=\"center\"> <img src=\".\\grapher_pictures\\example_fonction_droite_1.png\"> </p>"
   ]
  },
  {
   "cell_type": "markdown",
   "metadata": {},
   "source": [
    "## Fonction: Clean"
   ]
  },
  {
   "cell_type": "markdown",
   "metadata": {},
   "source": [
    "This function returns the default grapher, or the one specified as an argument, without any figures. "
   ]
  }
 ],
 "metadata": {
  "kernelspec": {
   "display_name": "Python 3",
   "language": "python",
   "name": "python3"
  },
  "language_info": {
   "codemirror_mode": {
    "name": "ipython",
    "version": 3
   },
   "file_extension": ".py",
   "mimetype": "text/x-python",
   "name": "python",
   "nbconvert_exporter": "python",
   "pygments_lexer": "ipython3",
   "version": "3.12.4"
  }
 },
 "nbformat": 4,
 "nbformat_minor": 2
}
